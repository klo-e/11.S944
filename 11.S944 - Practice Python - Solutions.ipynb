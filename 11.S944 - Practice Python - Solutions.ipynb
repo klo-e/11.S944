{
 "cells": [
  {
   "cell_type": "markdown",
   "metadata": {},
   "source": [
    "This is an optional notebook just to help you get more familiar with Python if you would like some practice!"
   ]
  },
  {
   "cell_type": "markdown",
   "metadata": {},
   "source": [
    "<b> Q1. What is 6 to the power 5? "
   ]
  },
  {
   "cell_type": "code",
   "execution_count": 3,
   "metadata": {},
   "outputs": [
    {
     "data": {
      "text/plain": [
       "7776"
      ]
     },
     "execution_count": 3,
     "metadata": {},
     "output_type": "execute_result"
    }
   ],
   "source": [
    "6**5"
   ]
  },
  {
   "cell_type": "markdown",
   "metadata": {},
   "source": [
    "<b> Q2. What is the main difference between a list and a tuple?"
   ]
  },
  {
   "cell_type": "markdown",
   "metadata": {},
   "source": [
    "A list mutable (can be changed) while a tuple is not."
   ]
  },
  {
   "cell_type": "markdown",
   "metadata": {},
   "source": [
    "<b> Q3: Can you extract the Capital of Indonesia"
   ]
  },
  {
   "cell_type": "code",
   "execution_count": 29,
   "metadata": {},
   "outputs": [],
   "source": [
    "# Here is a dictionary countaining Countries with the letter 'I' and their Capital\n",
    "Countries_I = {\"Iceland\":\"Reykjavik\",\n",
    "               \"India\":\"New Delhi\",\n",
    "               \"Indonesia\":\"Jakarta\",\n",
    "               \"Iran\":\"Tehran\",\n",
    "               \"Iraq\":\"Baghdad\",\n",
    "               \"Ireland\":\"Dublin\",\n",
    "               \"Israel\":\"Jerusalem\"}"
   ]
  },
  {
   "cell_type": "code",
   "execution_count": 28,
   "metadata": {},
   "outputs": [
    {
     "data": {
      "text/plain": [
       "'Jakarta'"
      ]
     },
     "execution_count": 28,
     "metadata": {},
     "output_type": "execute_result"
    }
   ],
   "source": [
    "Countries_I['Indonesia']"
   ]
  },
  {
   "cell_type": "markdown",
   "metadata": {},
   "source": [
    "<b> Q4: Extract 'this' from the List provided below"
   ]
  },
  {
   "cell_type": "code",
   "execution_count": 11,
   "metadata": {},
   "outputs": [],
   "source": [
    "Random_List = [2,'a',[33,'thirty'],[5,[100,200,['this']],23,11],1,7]"
   ]
  },
  {
   "cell_type": "code",
   "execution_count": 14,
   "metadata": {},
   "outputs": [
    {
     "data": {
      "text/plain": [
       "'this'"
      ]
     },
     "execution_count": 14,
     "metadata": {},
     "output_type": "execute_result"
    }
   ],
   "source": [
    "Random_List[3][1][2][0]"
   ]
  },
  {
   "cell_type": "markdown",
   "metadata": {},
   "source": [
    "<b> Q5. Given the tuple below, edit such that the 3rd entry is 300 instead of 400, and add 'Faith' to the list"
   ]
  },
  {
   "cell_type": "code",
   "execution_count": 91,
   "metadata": {},
   "outputs": [],
   "source": [
    "Data = (100,200,400,400,500,600, \"Alice\", \"Bill\", \"Caleb\", \"Diane\", \"Eunice\")"
   ]
  },
  {
   "cell_type": "code",
   "execution_count": 92,
   "metadata": {},
   "outputs": [],
   "source": [
    "# Change type from tuple to list\n",
    "Data = list(Data)"
   ]
  },
  {
   "cell_type": "code",
   "execution_count": 97,
   "metadata": {},
   "outputs": [
    {
     "data": {
      "text/plain": [
       "[100,\n",
       " 200,\n",
       " 300,\n",
       " 400,\n",
       " 500,\n",
       " 600,\n",
       " 'Alice',\n",
       " 'Bill',\n",
       " 'Caleb',\n",
       " 'Diane',\n",
       " 'Eunice',\n",
       " 'Faith',\n",
       " 'Faith',\n",
       " 'Faith']"
      ]
     },
     "execution_count": 97,
     "metadata": {},
     "output_type": "execute_result"
    }
   ],
   "source": [
    "Data[2]=300\n",
    "Data.append('Faith')\n",
    "Data"
   ]
  },
  {
   "cell_type": "code",
   "execution_count": 98,
   "metadata": {},
   "outputs": [
    {
     "data": {
      "text/plain": [
       "[100,\n",
       " 200,\n",
       " 300,\n",
       " 400,\n",
       " 500,\n",
       " 600,\n",
       " 'Alice',\n",
       " 'Bill',\n",
       " 'Caleb',\n",
       " 'Diane',\n",
       " 'Eunice',\n",
       " 'Glenn',\n",
       " 'Faith',\n",
       " 'Faith',\n",
       " 'Faith']"
      ]
     },
     "execution_count": 98,
     "metadata": {},
     "output_type": "execute_result"
    }
   ],
   "source": [
    "# Bonus - using insert to specify position \n",
    "Data.insert(11,'Glenn')\n",
    "Data"
   ]
  },
  {
   "cell_type": "markdown",
   "metadata": {},
   "source": [
    "<b> Q6. Given that BMI is calculated by Weight (in kilograms) divided by Height * Height (in meters), write a few lines of code, or a function, to get the final output as per below, rounded. The numbers you use do not matter."
   ]
  },
  {
   "cell_type": "code",
   "execution_count": 111,
   "metadata": {},
   "outputs": [],
   "source": [
    "Height = 1.8"
   ]
  },
  {
   "cell_type": "code",
   "execution_count": 112,
   "metadata": {},
   "outputs": [],
   "source": [
    "Weight = 70"
   ]
  },
  {
   "cell_type": "code",
   "execution_count": 113,
   "metadata": {},
   "outputs": [],
   "source": [
    "BMI = Weight/(Height*Height)"
   ]
  },
  {
   "cell_type": "code",
   "execution_count": 119,
   "metadata": {},
   "outputs": [
    {
     "name": "stdout",
     "output_type": "stream",
     "text": [
      "Your rounded body mass index is: 22\n"
     ]
    }
   ],
   "source": [
    "print(\"Your rounded body mass index is:\", round(BMI))"
   ]
  },
  {
   "cell_type": "code",
   "execution_count": 120,
   "metadata": {},
   "outputs": [
    {
     "data": {
      "text/plain": [
       "22"
      ]
     },
     "execution_count": 120,
     "metadata": {},
     "output_type": "execute_result"
    }
   ],
   "source": [
    "# Alternative Solution if you write a function\n",
    "def bmi(height,weight):\n",
    "    return round((weight/height**2))\n",
    "\n",
    "bmi(1.8, 70)"
   ]
  },
  {
   "cell_type": "markdown",
   "metadata": {},
   "source": [
    "<b> Q7. Write a loop that iterates the integers from 1 to 60. For multiples of two print \"Twins\" instead of the number, for muliples of three print \"Triplets\" instead of the number, For multiples of both two and three print \"Lucky!\".\n",
    "    \n",
    "Hint: after every statement use \"continue\" to print the numbers, use the word 'and' for two conditions.<br><br>\n",
    "For Example:\n",
    "\n",
    "<pre>     For a in range (b):\n",
    "                    if number % 2 == 0 \n",
    "                        print(\"xxxx\")\n",
    "                            continue"
   ]
  },
  {
   "cell_type": "code",
   "execution_count": 130,
   "metadata": {},
   "outputs": [
    {
     "name": "stdout",
     "output_type": "stream",
     "text": [
      "Lucky!\n",
      "1\n",
      "Twins\n",
      "Triplets\n",
      "Twins\n",
      "5\n",
      "Lucky!\n",
      "7\n",
      "Twins\n",
      "Triplets\n",
      "Twins\n",
      "11\n",
      "Lucky!\n",
      "13\n",
      "Twins\n",
      "Triplets\n",
      "Twins\n",
      "17\n",
      "Lucky!\n",
      "19\n",
      "Twins\n",
      "Triplets\n",
      "Twins\n",
      "23\n",
      "Lucky!\n",
      "25\n",
      "Twins\n",
      "Triplets\n",
      "Twins\n",
      "29\n"
     ]
    }
   ],
   "source": [
    "for number in range(30):\n",
    "    if number % 2 == 0 and number % 3 == 0:\n",
    "        print(\"Lucky!\")\n",
    "        continue\n",
    "    elif number % 2 == 0:\n",
    "        print(\"Twins\")\n",
    "        continue\n",
    "    elif number % 3 == 0:\n",
    "        print(\"Triplets\")\n",
    "        continue\n",
    "    print(number)"
   ]
  },
  {
   "cell_type": "markdown",
   "metadata": {},
   "source": [
    "<b> Q8. Write a function to determine what a person should get based on his driving speed, passing two parameters in the function (speed, has_license). has_license should be a boolean value. It should return 4 possible results: \"Small Ticket\" if speed > 80, \"Big Ticket\" if speed > 100, \"No Ticket\" if speed limit is not over 80 and lastly, if the person does not have a license,  regardless of speed, \"Jailed\""
   ]
  },
  {
   "cell_type": "code",
   "execution_count": 35,
   "metadata": {},
   "outputs": [],
   "source": [
    "def speeding_offence(speed, has_license):\n",
    "    if has_license:\n",
    "        speed = speed\n",
    "    else:\n",
    "        return 'Jailed'\n",
    "    \n",
    "    if speed > 80:\n",
    "        return 'Small Ticket'\n",
    "    \n",
    "    elif speed > 100:\n",
    "        return 'Big Ticket'\n",
    "    else:\n",
    "        return 'No Ticket'    "
   ]
  },
  {
   "cell_type": "code",
   "execution_count": 38,
   "metadata": {},
   "outputs": [
    {
     "data": {
      "text/plain": [
       "'Small Ticket'"
      ]
     },
     "execution_count": 38,
     "metadata": {},
     "output_type": "execute_result"
    }
   ],
   "source": [
    "caught_speeding(100, True)"
   ]
  },
  {
   "cell_type": "code",
   "execution_count": 39,
   "metadata": {},
   "outputs": [
    {
     "data": {
      "text/plain": [
       "'Jailed'"
      ]
     },
     "execution_count": 39,
     "metadata": {},
     "output_type": "execute_result"
    }
   ],
   "source": [
    "caught_speeding(80, False)"
   ]
  }
 ],
 "metadata": {
  "kernelspec": {
   "display_name": "Python 3",
   "language": "python",
   "name": "python3"
  },
  "language_info": {
   "codemirror_mode": {
    "name": "ipython",
    "version": 3
   },
   "file_extension": ".py",
   "mimetype": "text/x-python",
   "name": "python",
   "nbconvert_exporter": "python",
   "pygments_lexer": "ipython3",
   "version": "3.7.3"
  }
 },
 "nbformat": 4,
 "nbformat_minor": 2
}
