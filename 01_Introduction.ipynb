{
  "nbformat": 4,
  "nbformat_minor": 0,
  "metadata": {
    "colab": {
      "name": "01_Introduction.ipynb",
      "provenance": [],
      "include_colab_link": true
    },
    "kernelspec": {
      "name": "python3",
      "display_name": "Python 3"
    }
  },
  "cells": [
    {
      "cell_type": "markdown",
      "metadata": {
        "id": "view-in-github",
        "colab_type": "text"
      },
      "source": [
        "<a href=\"https://colab.research.google.com/github/klo-e/11.S944/blob/master/01_Introduction.ipynb\" target=\"_parent\"><img src=\"https://colab.research.google.com/assets/colab-badge.svg\" alt=\"Open In Colab\"/></a>"
      ]
    },
    {
      "cell_type": "markdown",
      "metadata": {
        "id": "13Mgi3cC-19K",
        "colab_type": "text"
      },
      "source": [
        "### 01 - 01 Introduction to Python"
      ]
    },
    {
      "cell_type": "markdown",
      "metadata": {
        "id": "kXKm-q57BlnQ",
        "colab_type": "text"
      },
      "source": [
        "Python - General Purpose Programming Language\n",
        "Open Source. Python Packages to share with other people.\n",
        "Can do almost anything with it.\n",
        "Python 2 and Python 3 - Some syntax difference"
      ]
    },
    {
      "cell_type": "markdown",
      "metadata": {
        "id": "8krHhVN4Eg9G",
        "colab_type": "text"
      },
      "source": [
        "free cloud service based on Jupyter Notebooks"
      ]
    }
  ]
}