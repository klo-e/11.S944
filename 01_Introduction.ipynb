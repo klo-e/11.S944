{
  "nbformat": 4,
  "nbformat_minor": 0,
  "metadata": {
    "colab": {
      "name": "01_Introduction.ipynb",
      "provenance": [],
      "collapsed_sections": [],
      "include_colab_link": true
    },
    "kernelspec": {
      "name": "python3",
      "display_name": "Python 3"
    }
  },
  "cells": [
    {
      "cell_type": "markdown",
      "metadata": {
        "id": "view-in-github",
        "colab_type": "text"
      },
      "source": [
        "<a href=\"https://colab.research.google.com/github/klo-e/11.S944/blob/master/01_Introduction.ipynb\" target=\"_parent\"><img src=\"https://colab.research.google.com/assets/colab-badge.svg\" alt=\"Open In Colab\"/></a>"
      ]
    },
    {
      "cell_type": "markdown",
      "metadata": {
        "id": "13Mgi3cC-19K",
        "colab_type": "text"
      },
      "source": [
        "## 01 - 01 Introduction to Python"
      ]
    },
    {
      "cell_type": "markdown",
      "metadata": {
        "id": "kXKm-q57BlnQ",
        "colab_type": "text"
      },
      "source": [
        "Python is a great high-level, general purpose programming language created by Guido van Rossum in 1991. Common uses include building desktop apps, games, backend web development and for this class, data analysis. Companies like Instagram, Amazon, Spotify and Facebook uses Python as well.\n",
        "\n",
        "The current version we are using is Python 3.7.4. Some online tutorials may refer to Python 2, which defers slightly in syntax from Python 3.\n",
        "\n",
        "Python Scripts run from top to bottom, left to right.\n",
        "\n",
        "You can find out more from the [Official Python Documentation.](https://docs.python.org/3/) \n"
      ]
    },
    {
      "cell_type": "markdown",
      "metadata": {
        "id": "yxMSJDAmwHRJ",
        "colab_type": "text"
      },
      "source": [
        "## 01 - 02 Basic **Calculations** / Mathematical Operators"
      ]
    },
    {
      "cell_type": "markdown",
      "metadata": {
        "id": "m1XzDztxd0s6",
        "colab_type": "text"
      },
      "source": [
        "The Python interpreter allows you to use Python as a Calculator:\n",
        "\n",
        "\n",
        "*   Addition (+)\n",
        "*   Subtraction (-)\n",
        "*   Multiplication (*)\n",
        "*   Division (/)\n",
        "*   Modulo (%, to calculate remainder of the division)\n",
        "*   Power (**)\n",
        "\n",
        "Python follows the order of precedence (PEDMAS/BODMAS).\n",
        "This helps you to manipulate and change data later on. \n",
        "\n",
        "\n",
        "\n"
      ]
    },
    {
      "cell_type": "code",
      "metadata": {
        "id": "KtNOx-2Z0FdT",
        "colab_type": "code",
        "colab": {}
      },
      "source": [
        "#Addition\n",
        "print(6+6)"
      ],
      "execution_count": 0,
      "outputs": []
    },
    {
      "cell_type": "code",
      "metadata": {
        "id": "LJi9sZe-0PaV",
        "colab_type": "code",
        "outputId": "b7cbfb51-c35e-4188-8382-826e550a4145",
        "colab": {
          "base_uri": "https://localhost:8080/",
          "height": 34
        }
      },
      "source": [
        "#Subtraction\n",
        "print (6-6)"
      ],
      "execution_count": 0,
      "outputs": [
        {
          "output_type": "stream",
          "text": [
            "0\n"
          ],
          "name": "stdout"
        }
      ]
    },
    {
      "cell_type": "code",
      "metadata": {
        "id": "PUs9BMv70VYU",
        "colab_type": "code",
        "outputId": "dd12f1bd-e54a-471b-ac91-6eec9bea76c1",
        "colab": {
          "base_uri": "https://localhost:8080/",
          "height": 34
        }
      },
      "source": [
        "#Multiplication\n",
        "print (4*5)"
      ],
      "execution_count": 0,
      "outputs": [
        {
          "output_type": "stream",
          "text": [
            "20\n"
          ],
          "name": "stdout"
        }
      ]
    },
    {
      "cell_type": "code",
      "metadata": {
        "id": "ylJETBJa0ZDp",
        "colab_type": "code",
        "outputId": "1c784b07-98d5-4d36-80cc-4dd31a2abe51",
        "colab": {
          "base_uri": "https://localhost:8080/",
          "height": 34
        }
      },
      "source": [
        "#Division\n",
        "print (10/2)"
      ],
      "execution_count": 0,
      "outputs": [
        {
          "output_type": "stream",
          "text": [
            "5.0\n"
          ],
          "name": "stdout"
        }
      ]
    },
    {
      "cell_type": "code",
      "metadata": {
        "id": "FtlDe2qC0iOV",
        "colab_type": "code",
        "outputId": "e1d041be-1a17-45f3-846c-620a66a6a81d",
        "colab": {
          "base_uri": "https://localhost:8080/",
          "height": 34
        }
      },
      "source": [
        "#Modulus\n",
        "print (18%7)"
      ],
      "execution_count": 0,
      "outputs": [
        {
          "output_type": "stream",
          "text": [
            "4\n"
          ],
          "name": "stdout"
        }
      ]
    },
    {
      "cell_type": "code",
      "metadata": {
        "id": "Bfbr2bqI0m8w",
        "colab_type": "code",
        "outputId": "a59488c7-043b-494c-f7ff-f376fde213f3",
        "colab": {
          "base_uri": "https://localhost:8080/",
          "height": 34
        }
      },
      "source": [
        "#Raise to the power\n",
        "print(4**2)"
      ],
      "execution_count": 0,
      "outputs": [
        {
          "output_type": "stream",
          "text": [
            "16\n"
          ],
          "name": "stdout"
        }
      ]
    },
    {
      "cell_type": "markdown",
      "metadata": {
        "id": "O-JEHA_y-9uv",
        "colab_type": "text"
      },
      "source": [
        "## **01 - 02a Variables**\n",
        "\n",
        "Variables are used to store information in the code, assigned with an equal \"=\" sign. Variables are **case-sensitive**.\n",
        "\n",
        "In plain english, x = 13 means to create a variable with the name x and assign it the value of 13. It **does not** mean that x is equal to 13.\n"
      ]
    },
    {
      "cell_type": "markdown",
      "metadata": {
        "id": "GQyfEP4m0-Ay",
        "colab_type": "text"
      },
      "source": [
        "## **01 - 03 Data Types**\n",
        "\n",
        "Some common data types include:\n",
        "*   String (*Str*, Python's version of text. Both single and double quotation works)\n",
        "*   Integer (*Int*)\n",
        "*   Float \n",
        "*   Boolean (*Bool*, whether something is True or False)\n",
        "*   List (Collection of data which is ordered and mutable)\n",
        "*   Tuple (Collection of data which is ordered and immutable)\n",
        "\n",
        "Dictionary (Dict), Range, Set are also some data types in Python.\n",
        "\n",
        "\n",
        "\n",
        "**It is important to understand the different data types as they exhibit different behaviour given similiar commands.**\n"
      ]
    },
    {
      "cell_type": "code",
      "metadata": {
        "id": "L3jyqD1n1Woy",
        "colab_type": "code",
        "outputId": "17f27ea1-c084-4847-bad7-abab5a08a15e",
        "colab": {
          "base_uri": "https://localhost:8080/",
          "height": 34
        }
      },
      "source": [
        "#Example of string\n",
        "'ab' + 'cd'"
      ],
      "execution_count": 0,
      "outputs": [
        {
          "output_type": "execute_result",
          "data": {
            "text/plain": [
              "'abcd'"
            ]
          },
          "metadata": {
            "tags": []
          },
          "execution_count": 16
        }
      ]
    },
    {
      "cell_type": "code",
      "metadata": {
        "id": "xbxPoz0-SM69",
        "colab_type": "code",
        "outputId": "c1de82fc-3c88-440e-d981-5f699ee9b0fa",
        "colab": {
          "base_uri": "https://localhost:8080/",
          "height": 34
        }
      },
      "source": [
        "#Example of Integer\n",
        "print(2+5)"
      ],
      "execution_count": 0,
      "outputs": [
        {
          "output_type": "stream",
          "text": [
            "7\n"
          ],
          "name": "stdout"
        }
      ]
    },
    {
      "cell_type": "code",
      "metadata": {
        "id": "C3rkE6Z7L7qP",
        "colab_type": "code",
        "outputId": "081beb77-5040-4bbf-91a9-b0642fda0027",
        "colab": {
          "base_uri": "https://localhost:8080/",
          "height": 34
        }
      },
      "source": [
        "#Example of Float\n",
        "print(float(2+5))"
      ],
      "execution_count": 0,
      "outputs": [
        {
          "output_type": "stream",
          "text": [
            "7.0\n"
          ],
          "name": "stdout"
        }
      ]
    },
    {
      "cell_type": "code",
      "metadata": {
        "id": "LDaISLPzlRyj",
        "colab_type": "code",
        "outputId": "4e7d6ea3-b59c-48bc-9316-bd9e68a35bfb",
        "colab": {
          "base_uri": "https://localhost:8080/",
          "height": 34
        }
      },
      "source": [
        "#Example of Boolean\n",
        "2 < 5 "
      ],
      "execution_count": 0,
      "outputs": [
        {
          "output_type": "execute_result",
          "data": {
            "text/plain": [
              "True"
            ]
          },
          "metadata": {
            "tags": []
          },
          "execution_count": 18
        }
      ]
    },
    {
      "cell_type": "markdown",
      "metadata": {
        "id": "ikDUCSo9WFtH",
        "colab_type": "text"
      },
      "source": [
        "**More about strings**"
      ]
    },
    {
      "cell_type": "code",
      "metadata": {
        "id": "iCb0aDPHUiQC",
        "colab_type": "code",
        "outputId": "8031467f-08b4-4040-fd6f-7e38d6ca218a",
        "colab": {
          "base_uri": "https://localhost:8080/",
          "height": 34
        }
      },
      "source": [
        "#using upper\n",
        "x = \"happy birthday\"\n",
        "print(x)"
      ],
      "execution_count": 0,
      "outputs": [
        {
          "output_type": "stream",
          "text": [
            "happy birthday\n"
          ],
          "name": "stdout"
        }
      ]
    },
    {
      "cell_type": "code",
      "metadata": {
        "id": "Z0-SPAZ_UsRT",
        "colab_type": "code",
        "outputId": "c6da5bb3-b822-456a-fef8-9e0a96187f42",
        "colab": {
          "base_uri": "https://localhost:8080/",
          "height": 34
        }
      },
      "source": [
        "#upper, capitalize, title\n",
        "x.upper()"
      ],
      "execution_count": 0,
      "outputs": [
        {
          "output_type": "execute_result",
          "data": {
            "text/plain": [
              "'HAPPY BIRTHDAY'"
            ]
          },
          "metadata": {
            "tags": []
          },
          "execution_count": 3
        }
      ]
    },
    {
      "cell_type": "code",
      "metadata": {
        "id": "5MjAB_oxWWna",
        "colab_type": "code",
        "colab": {}
      },
      "source": [
        "#slicing\n",
        "#every letter is an index, starting from 0\n",
        "word = \"Honorificabilitudinitatibus\""
      ],
      "execution_count": 0,
      "outputs": []
    },
    {
      "cell_type": "code",
      "metadata": {
        "id": "wVABqFE2YqED",
        "colab_type": "code",
        "outputId": "4c77687b-a31b-4da5-b6f1-e164ef2ac897",
        "colab": {
          "base_uri": "https://localhost:8080/",
          "height": 34
        }
      },
      "source": [
        "word[0]"
      ],
      "execution_count": 0,
      "outputs": [
        {
          "output_type": "execute_result",
          "data": {
            "text/plain": [
              "'H'"
            ]
          },
          "metadata": {
            "tags": []
          },
          "execution_count": 6
        }
      ]
    },
    {
      "cell_type": "code",
      "metadata": {
        "id": "GSnMpXNtY7rg",
        "colab_type": "code",
        "outputId": "f3713a85-d682-4ea3-d287-279147dda839",
        "colab": {
          "base_uri": "https://localhost:8080/",
          "height": 34
        }
      },
      "source": [
        "word[0:5]"
      ],
      "execution_count": 0,
      "outputs": [
        {
          "output_type": "execute_result",
          "data": {
            "text/plain": [
              "'Honor'"
            ]
          },
          "metadata": {
            "tags": []
          },
          "execution_count": 7
        }
      ]
    },
    {
      "cell_type": "code",
      "metadata": {
        "id": "YRjPRBRqaGBW",
        "colab_type": "code",
        "outputId": "145b622d-6371-496e-d205-bea9fc761a3b",
        "colab": {
          "base_uri": "https://localhost:8080/",
          "height": 34
        }
      },
      "source": [
        "len(word)"
      ],
      "execution_count": 0,
      "outputs": [
        {
          "output_type": "execute_result",
          "data": {
            "text/plain": [
              "27"
            ]
          },
          "metadata": {
            "tags": []
          },
          "execution_count": 8
        }
      ]
    },
    {
      "cell_type": "code",
      "metadata": {
        "id": "pR3bworTaCjP",
        "colab_type": "code",
        "outputId": "7f54213b-3a95-44ba-a238-8466f158534f",
        "colab": {
          "base_uri": "https://localhost:8080/",
          "height": 34
        }
      },
      "source": [
        "#variable[start:end:step]\n",
        "word[0:27:2]"
      ],
      "execution_count": 0,
      "outputs": [
        {
          "output_type": "execute_result",
          "data": {
            "text/plain": [
              "'Hnrfcbltdnttbs'"
            ]
          },
          "metadata": {
            "tags": []
          },
          "execution_count": 13
        }
      ]
    },
    {
      "cell_type": "code",
      "metadata": {
        "id": "aFRJNpGda7PN",
        "colab_type": "code",
        "outputId": "4c8826c0-d821-4ecf-f86a-981256237c58",
        "colab": {
          "base_uri": "https://localhost:8080/",
          "height": 34
        }
      },
      "source": [
        "#start from 5 to the end\n",
        "word[5:]"
      ],
      "execution_count": 0,
      "outputs": [
        {
          "output_type": "execute_result",
          "data": {
            "text/plain": [
              "'ificabilitudinitatibus'"
            ]
          },
          "metadata": {
            "tags": []
          },
          "execution_count": 16
        }
      ]
    },
    {
      "cell_type": "code",
      "metadata": {
        "id": "0kXUieuSbM7C",
        "colab_type": "code",
        "outputId": "97b07625-24df-47de-8b02-019638aad253",
        "colab": {
          "base_uri": "https://localhost:8080/",
          "height": 34
        }
      },
      "source": [
        "#get extract 'Honor', start from 0 \n",
        "word[:5]"
      ],
      "execution_count": 0,
      "outputs": [
        {
          "output_type": "execute_result",
          "data": {
            "text/plain": [
              "'Honor'"
            ]
          },
          "metadata": {
            "tags": []
          },
          "execution_count": 17
        }
      ]
    },
    {
      "cell_type": "code",
      "metadata": {
        "id": "S6r1qZT_blPC",
        "colab_type": "code",
        "outputId": "cb996cb8-02af-446c-a7c4-e6fff9369fea",
        "colab": {
          "base_uri": "https://localhost:8080/",
          "height": 34
        }
      },
      "source": [
        "#start from the end, backwards\n",
        "word[::-1]"
      ],
      "execution_count": 0,
      "outputs": [
        {
          "output_type": "execute_result",
          "data": {
            "text/plain": [
              "'subitatinidutilibacifironoH'"
            ]
          },
          "metadata": {
            "tags": []
          },
          "execution_count": 18
        }
      ]
    },
    {
      "cell_type": "code",
      "metadata": {
        "id": "JazxfjQzdDKU",
        "colab_type": "code",
        "outputId": "881f5cc8-642f-4bb2-ce15-31a6aedd1540",
        "colab": {
          "base_uri": "https://localhost:8080/",
          "height": 34
        }
      },
      "source": [
        "#indexing - only returns the first instance of what you are searching for\n",
        "\n",
        "word.index(\"bus\")"
      ],
      "execution_count": 0,
      "outputs": [
        {
          "output_type": "execute_result",
          "data": {
            "text/plain": [
              "24"
            ]
          },
          "metadata": {
            "tags": []
          },
          "execution_count": 19
        }
      ]
    },
    {
      "cell_type": "code",
      "metadata": {
        "id": "oxkPKFtodMPC",
        "colab_type": "code",
        "outputId": "006e7417-149d-4ada-e128-fe4ea1a238aa",
        "colab": {
          "base_uri": "https://localhost:8080/",
          "height": 34
        }
      },
      "source": [
        "word[word.index(\"bus\"):]"
      ],
      "execution_count": 0,
      "outputs": [
        {
          "output_type": "execute_result",
          "data": {
            "text/plain": [
              "'bus'"
            ]
          },
          "metadata": {
            "tags": []
          },
          "execution_count": 20
        }
      ]
    },
    {
      "cell_type": "markdown",
      "metadata": {
        "id": "vE_1laNegAJR",
        "colab_type": "text"
      },
      "source": [
        "**More about Boolean**"
      ]
    },
    {
      "cell_type": "code",
      "metadata": {
        "id": "6l42oEe0gEb-",
        "colab_type": "code",
        "outputId": "3d9494f0-b31f-468f-caec-b724ff37d7d6",
        "colab": {
          "base_uri": "https://localhost:8080/",
          "height": 34
        }
      },
      "source": [
        "2 > 3"
      ],
      "execution_count": 0,
      "outputs": [
        {
          "output_type": "execute_result",
          "data": {
            "text/plain": [
              "False"
            ]
          },
          "metadata": {
            "tags": []
          },
          "execution_count": 29
        }
      ]
    },
    {
      "cell_type": "code",
      "metadata": {
        "id": "b_pL59pbgSJR",
        "colab_type": "code",
        "outputId": "91bbec67-f89f-42e6-fb1f-6fd5703264cc",
        "colab": {
          "base_uri": "https://localhost:8080/",
          "height": 34
        }
      },
      "source": [
        "2 == 3"
      ],
      "execution_count": 0,
      "outputs": [
        {
          "output_type": "execute_result",
          "data": {
            "text/plain": [
              "False"
            ]
          },
          "metadata": {
            "tags": []
          },
          "execution_count": 30
        }
      ]
    },
    {
      "cell_type": "code",
      "metadata": {
        "id": "0QiziwtfgUJc",
        "colab_type": "code",
        "outputId": "11bda5ab-7af2-4351-cfb7-056edb351c5f",
        "colab": {
          "base_uri": "https://localhost:8080/",
          "height": 34
        }
      },
      "source": [
        "2 != 3"
      ],
      "execution_count": 0,
      "outputs": [
        {
          "output_type": "execute_result",
          "data": {
            "text/plain": [
              "True"
            ]
          },
          "metadata": {
            "tags": []
          },
          "execution_count": 31
        }
      ]
    },
    {
      "cell_type": "code",
      "metadata": {
        "id": "PvoOpgL8ggQx",
        "colab_type": "code",
        "outputId": "707f0857-d26c-4ff1-ceaa-7288aae25365",
        "colab": {
          "base_uri": "https://localhost:8080/",
          "height": 34
        }
      },
      "source": [
        "# >= symbolizes less than or equals to\n",
        "3 >= 3"
      ],
      "execution_count": 0,
      "outputs": [
        {
          "output_type": "execute_result",
          "data": {
            "text/plain": [
              "True"
            ]
          },
          "metadata": {
            "tags": []
          },
          "execution_count": 32
        }
      ]
    },
    {
      "cell_type": "code",
      "metadata": {
        "id": "Joupw3BQgv9T",
        "colab_type": "code",
        "colab": {}
      },
      "source": [
        "#what will 4 = 4 give you? True, False, Invalid"
      ],
      "execution_count": 0,
      "outputs": []
    },
    {
      "cell_type": "markdown",
      "metadata": {
        "id": "j8_J4z6Yj-8j",
        "colab_type": "text"
      },
      "source": [
        "**More about Boolean - If Conditions**"
      ]
    },
    {
      "cell_type": "code",
      "metadata": {
        "id": "uEPAiME4kcWZ",
        "colab_type": "code",
        "colab": {}
      },
      "source": [
        "a = 8\n",
        "b = 10"
      ],
      "execution_count": 0,
      "outputs": []
    },
    {
      "cell_type": "code",
      "metadata": {
        "id": "xNi1wY4YkOZG",
        "colab_type": "code",
        "outputId": "465b7346-7811-42f9-ab51-d8aa51815af5",
        "colab": {
          "base_uri": "https://localhost:8080/",
          "height": 34
        }
      },
      "source": [
        "if a > b:\n",
        "  print(\"a is bigger than b\")\n",
        "  \n",
        "else:\n",
        "  print(\"b is bigger than a\")\n",
        "  "
      ],
      "execution_count": 0,
      "outputs": [
        {
          "output_type": "stream",
          "text": [
            "b is bigger than a\n"
          ],
          "name": "stdout"
        }
      ]
    },
    {
      "cell_type": "code",
      "metadata": {
        "id": "O7lbMNY-k1w-",
        "colab_type": "code",
        "colab": {}
      },
      "source": [
        "a = 10\n",
        "b = 10 "
      ],
      "execution_count": 0,
      "outputs": []
    },
    {
      "cell_type": "code",
      "metadata": {
        "id": "b_iq7ZZOk8ud",
        "colab_type": "code",
        "outputId": "100c5562-dd6e-40a9-f694-56d7267a9e6e",
        "colab": {
          "base_uri": "https://localhost:8080/",
          "height": 34
        }
      },
      "source": [
        "if a > b:\n",
        "  print(\"a is bigger than b\")\n",
        "elif b > a:\n",
        "  print(\"b is bigger than a\")\n",
        "else: \n",
        "  print(\"Both numbers are equal\")"
      ],
      "execution_count": 0,
      "outputs": [
        {
          "output_type": "stream",
          "text": [
            "Both numbers are equal\n"
          ],
          "name": "stdout"
        }
      ]
    },
    {
      "cell_type": "markdown",
      "metadata": {
        "id": "_rxtAOtLs3ae",
        "colab_type": "text"
      },
      "source": [
        "**More about Lists**\n"
      ]
    },
    {
      "cell_type": "code",
      "metadata": {
        "id": "qiRDCKG5s7ZT",
        "colab_type": "code",
        "colab": {}
      },
      "source": [
        "#Lists are created with square brackets [], and you can have lists within list\n",
        "\n",
        "New_List = [40, 20, 12, 35, 57]\n",
        "List_Two = [1,2,3,4,5,[14,18,20]]"
      ],
      "execution_count": 0,
      "outputs": []
    },
    {
      "cell_type": "code",
      "metadata": {
        "id": "YmNBqJYBudik",
        "colab_type": "code",
        "outputId": "6181d3f1-23ac-48bf-dace-65937a8ad2e1",
        "colab": {
          "base_uri": "https://localhost:8080/",
          "height": 34
        }
      },
      "source": [
        "#to get number 18, the 2nd number in the 2nd list\n",
        "List_Two[5][1]"
      ],
      "execution_count": 0,
      "outputs": [
        {
          "output_type": "execute_result",
          "data": {
            "text/plain": [
              "18"
            ]
          },
          "metadata": {
            "tags": []
          },
          "execution_count": 44
        }
      ]
    },
    {
      "cell_type": "code",
      "metadata": {
        "id": "sTjrY_fYDMNK",
        "colab_type": "code",
        "outputId": "b848ce84-0ba5-4ea1-e32d-d59a3ae069d5",
        "colab": {
          "base_uri": "https://localhost:8080/",
          "height": 34
        }
      },
      "source": [
        "#Lists are mutable - which means that you can change items inside it.\n",
        "A = [1,2,3]\n",
        "A[0] = 5\n",
        "print(A)"
      ],
      "execution_count": 0,
      "outputs": [
        {
          "output_type": "stream",
          "text": [
            "[5, 2, 3]\n"
          ],
          "name": "stdout"
        }
      ]
    },
    {
      "cell_type": "markdown",
      "metadata": {
        "id": "mgddBrGgDkLN",
        "colab_type": "text"
      },
      "source": [
        "**More about Tuples** - Very similiar to Lists, except that they cannot be changed after it it created. For data that you do not want to be accidentally modified. "
      ]
    },
    {
      "cell_type": "code",
      "metadata": {
        "id": "k9dEyU2gDqud",
        "colab_type": "code",
        "colab": {}
      },
      "source": [
        "New_Tuple = 1,2,3,\"A\",\"B\",\"C\""
      ],
      "execution_count": 0,
      "outputs": []
    },
    {
      "cell_type": "code",
      "metadata": {
        "id": "1xIK9qRuD6WP",
        "colab_type": "code",
        "outputId": "a5e4e164-62da-4bc4-da4e-c17ab0725626",
        "colab": {
          "base_uri": "https://localhost:8080/",
          "height": 34
        }
      },
      "source": [
        "type(New_Tuple) "
      ],
      "execution_count": 0,
      "outputs": [
        {
          "output_type": "execute_result",
          "data": {
            "text/plain": [
              "tuple"
            ]
          },
          "metadata": {
            "tags": []
          },
          "execution_count": 48
        }
      ]
    },
    {
      "cell_type": "code",
      "metadata": {
        "id": "D9oT1UC-FiRE",
        "colab_type": "code",
        "colab": {}
      },
      "source": [
        "#Changing list to tuple\n",
        "A = [1,2,3]\n",
        "A = tuple(A)"
      ],
      "execution_count": 0,
      "outputs": []
    },
    {
      "cell_type": "markdown",
      "metadata": {
        "id": "ewI0UhfQFsbR",
        "colab_type": "text"
      },
      "source": [
        "**More about Dictionaries** {Key:Value}"
      ]
    },
    {
      "cell_type": "code",
      "metadata": {
        "id": "jbhVbDUMF3ix",
        "colab_type": "code",
        "outputId": "750d7f21-bf28-498e-91c2-3e273b5a37ae",
        "colab": {
          "base_uri": "https://localhost:8080/",
          "height": 34
        }
      },
      "source": [
        "#Dictionaries are created with curly brackets {}, and you can have dictionaries within dictionaries (called nested dictionaries)\n",
        "team = {\"Alicia\":20, \"Ken\":19, \"Tim\": 20}\n",
        "team[\"Ken\"]"
      ],
      "execution_count": 0,
      "outputs": [
        {
          "output_type": "execute_result",
          "data": {
            "text/plain": [
              "19"
            ]
          },
          "metadata": {
            "tags": []
          },
          "execution_count": 56
        }
      ]
    },
    {
      "cell_type": "code",
      "metadata": {
        "id": "jXe9RAMHH3Yy",
        "colab_type": "code",
        "outputId": "0cc22270-0a86-4497-cd6c-7b6d9b6f9dcf",
        "colab": {
          "base_uri": "https://localhost:8080/",
          "height": 34
        }
      },
      "source": [
        "#Adding new items to the dictionary\n",
        "team[\"Emma\"]= 23\n",
        "team"
      ],
      "execution_count": 0,
      "outputs": [
        {
          "output_type": "execute_result",
          "data": {
            "text/plain": [
              "{'Alicia': 20, 'Emma': 23, 'Ken': 19, 'Tim': 20}"
            ]
          },
          "metadata": {
            "tags": []
          },
          "execution_count": 57
        }
      ]
    },
    {
      "cell_type": "code",
      "metadata": {
        "id": "pbQKMbsaIHGX",
        "colab_type": "code",
        "outputId": "ff432b9b-c3ea-485f-93df-cee2b2bcfe1c",
        "colab": {
          "base_uri": "https://localhost:8080/",
          "height": 34
        }
      },
      "source": [
        "#Getting all the keys in the dictionary\n",
        "team.keys()"
      ],
      "execution_count": 0,
      "outputs": [
        {
          "output_type": "execute_result",
          "data": {
            "text/plain": [
              "dict_keys(['Alicia', 'Ken', 'Tim', 'Emma'])"
            ]
          },
          "metadata": {
            "tags": []
          },
          "execution_count": 58
        }
      ]
    },
    {
      "cell_type": "code",
      "metadata": {
        "id": "NgzvUs51K1yE",
        "colab_type": "code",
        "outputId": "14911ddf-bf76-4e4a-cd07-25434b7cdadf",
        "colab": {
          "base_uri": "https://localhost:8080/",
          "height": 34
        }
      },
      "source": [
        "#Getting all the values in the dictionary\n",
        "team.values()"
      ],
      "execution_count": 0,
      "outputs": [
        {
          "output_type": "execute_result",
          "data": {
            "text/plain": [
              "dict_values([20, 19, 20, 23])"
            ]
          },
          "metadata": {
            "tags": []
          },
          "execution_count": 59
        }
      ]
    },
    {
      "cell_type": "code",
      "metadata": {
        "id": "16AtXwZHKcZc",
        "colab_type": "code",
        "colab": {}
      },
      "source": [
        "#Trying to access via index - does not work\n",
        "# team.keys()[]\n",
        "#Change to list\n",
        "new_team = list(team.keys())"
      ],
      "execution_count": 0,
      "outputs": []
    },
    {
      "cell_type": "code",
      "metadata": {
        "id": "OhhurlBoMWio",
        "colab_type": "code",
        "colab": {}
      },
      "source": [
        "#Having lists within a dictionary\n",
        "team_info = {\"Alicia\":[\"F\", 20, \"MCP\"],\n",
        "             \"Ken\": [\"M\", 19, \"GSD\"],\n",
        "             \"Tim\": [\"M\", 20, \"SMArchs\"]\n",
        "            }"
      ],
      "execution_count": 0,
      "outputs": []
    },
    {
      "cell_type": "code",
      "metadata": {
        "id": "m2R2kQH7M_Fp",
        "colab_type": "code",
        "outputId": "b456a001-3adb-4427-b3fe-4684db3d668e",
        "colab": {
          "base_uri": "https://localhost:8080/",
          "height": 34
        }
      },
      "source": [
        "print(team_info[\"Ken\"][2])"
      ],
      "execution_count": 0,
      "outputs": [
        {
          "output_type": "stream",
          "text": [
            "GSD\n"
          ],
          "name": "stdout"
        }
      ]
    },
    {
      "cell_type": "code",
      "metadata": {
        "id": "gyZSwlltNkFo",
        "colab_type": "code",
        "colab": {}
      },
      "source": [
        "#Having dictionaries within dictionaries\n",
        "team_info = {\n",
        "            \"Alicia\":{\"Gender\":\"F\", \"Age\": 20, \"Course\": \"MCP\"},\n",
        "            \"Ken\": {\"Gender\": \"M\",\"Age\": 19, \"Course\": \"GSD\"},\n",
        "             \"Tim\": {\"Gender\": \"M\", \"Age\": 20, \"Course\": \"SMArchs\"}\n",
        "            }"
      ],
      "execution_count": 0,
      "outputs": []
    },
    {
      "cell_type": "code",
      "metadata": {
        "id": "5U_zDgKxOJ4i",
        "colab_type": "code",
        "outputId": "9a449e0a-bb4a-44c0-d8d7-24fbccc320e0",
        "colab": {
          "base_uri": "https://localhost:8080/",
          "height": 34
        }
      },
      "source": [
        "team_info[\"Alicia\"][\"Age\"]"
      ],
      "execution_count": 0,
      "outputs": [
        {
          "output_type": "execute_result",
          "data": {
            "text/plain": [
              "20"
            ]
          },
          "metadata": {
            "tags": []
          },
          "execution_count": 69
        }
      ]
    },
    {
      "cell_type": "markdown",
      "metadata": {
        "id": "U3xcnFjvTm6n",
        "colab_type": "text"
      },
      "source": [
        "## **01 - 04 Python Functions**\n",
        "A function is a block of reusable code that only runs when called to carry out specific task(s). The idea is to put some commonly used code together and make a function, so that instead of writing the same code repeatedly, we can call the function.\n",
        "\n",
        "Some Python built-in functions include type(),sum(), len() etc. User-defined functions can also be created to specify specific tasks.\n",
        "\n",
        "Functions are made by defining them with 'def' and having parameters through them\n",
        "\n",
        "Indentation is **VERY IMPORTANT** in python. \n",
        "\n",
        "Documentation can be found [here](https://www.w3schools.com/python/python_ref_functions.asp)"
      ]
    },
    {
      "cell_type": "code",
      "metadata": {
        "id": "ShlIt_l7Qyve",
        "colab_type": "code",
        "colab": {}
      },
      "source": [
        "#definition with parameter\n",
        "def sayhello(name):\n",
        "  print(\"hello\" + \" \" + name)"
      ],
      "execution_count": 0,
      "outputs": []
    },
    {
      "cell_type": "code",
      "metadata": {
        "id": "bnwcOAvKRFYD",
        "colab_type": "code",
        "outputId": "c262e58b-8e0b-4e20-da1b-0e18f7cbb542",
        "colab": {
          "base_uri": "https://localhost:8080/",
          "height": 34
        }
      },
      "source": [
        "sayhello(\"kloe\")"
      ],
      "execution_count": 0,
      "outputs": [
        {
          "output_type": "stream",
          "text": [
            "hello kloe\n"
          ],
          "name": "stdout"
        }
      ]
    },
    {
      "cell_type": "code",
      "metadata": {
        "id": "Kku3eJc6RjBT",
        "colab_type": "code",
        "outputId": "fa1757c8-fe65-4753-d0cf-9c04c4e11c18",
        "colab": {
          "base_uri": "https://localhost:8080/",
          "height": 69
        }
      },
      "source": [
        "def myprogramme(breed):\n",
        "  print(\"I have a \"+  breed)\n",
        "  \n",
        "mydog(\"pug\")\n",
        "mydog(\"frenchie\")\n",
        "mydog(\"golden\")\n",
        "\n"
      ],
      "execution_count": 0,
      "outputs": [
        {
          "output_type": "stream",
          "text": [
            "I have a pug\n",
            "I have a frenchie\n",
            "I have a golden\n"
          ],
          "name": "stdout"
        }
      ]
    },
    {
      "cell_type": "code",
      "metadata": {
        "id": "5P637ALSV4TX",
        "colab_type": "code",
        "outputId": "deeba559-ddb0-483d-e6e6-4d927b13fa83",
        "colab": {
          "base_uri": "https://localhost:8080/",
          "height": 120
        }
      },
      "source": [
        "def myfunction(food):\n",
        "  for x in food:\n",
        "    print(x)\n",
        "\n",
        "\n",
        "fruits = [\"apple\", \"orange\", \"banana\"]\n",
        "cuisine = [\"chinese\", \"italian\", \"japanese\"]\n",
        "\n",
        "myfunction(fruits)\n",
        "myfunction(cuisine)"
      ],
      "execution_count": 0,
      "outputs": [
        {
          "output_type": "stream",
          "text": [
            "apple\n",
            "orange\n",
            "banana\n",
            "chinese\n",
            "italian\n",
            "japanese\n"
          ],
          "name": "stdout"
        }
      ]
    },
    {
      "cell_type": "code",
      "metadata": {
        "id": "3sBrSMGWZWr7",
        "colab_type": "code",
        "outputId": "d9894eba-885d-4cfe-f3d4-676945e79872",
        "colab": {
          "base_uri": "https://localhost:8080/",
          "height": 34
        }
      },
      "source": [
        "def my_function(monday, tuesday, wednesday):\n",
        "  print(\"I had \" + wednesday)\n",
        "\n",
        "my_function(monday = \"chinese\", tuesday = \"italian\", wednesday = \"japanese\")"
      ],
      "execution_count": 0,
      "outputs": [
        {
          "output_type": "stream",
          "text": [
            "I had japanese\n"
          ],
          "name": "stdout"
        }
      ]
    },
    {
      "cell_type": "code",
      "metadata": {
        "id": "xEJeW2JnhyZs",
        "colab_type": "code",
        "outputId": "a5c270fc-206e-47c6-d70a-58a77715c1d6",
        "colab": {
          "base_uri": "https://localhost:8080/",
          "height": 34
        }
      },
      "source": [
        "def sum_two_numbers(a, b):\n",
        "    return a + b\n",
        "  \n",
        "sum_two_numbers(5,10)"
      ],
      "execution_count": 0,
      "outputs": [
        {
          "output_type": "execute_result",
          "data": {
            "text/plain": [
              "15"
            ]
          },
          "metadata": {
            "tags": []
          },
          "execution_count": 27
        }
      ]
    },
    {
      "cell_type": "code",
      "metadata": {
        "id": "N_Q0rmsonCdU",
        "colab_type": "code",
        "colab": {}
      },
      "source": [
        "list = [12, 20, 40, 50, \"today\", \"dog\", \"traffic\"]"
      ],
      "execution_count": 0,
      "outputs": []
    },
    {
      "cell_type": "code",
      "metadata": {
        "id": "zGpDPVCDnI9y",
        "colab_type": "code",
        "outputId": "863fd82d-9fe3-4457-e14b-b9cdcde9c8fc",
        "colab": {
          "base_uri": "https://localhost:8080/",
          "height": 136
        }
      },
      "source": [
        "for i in list:\n",
        "  print(i)"
      ],
      "execution_count": 0,
      "outputs": [
        {
          "output_type": "stream",
          "text": [
            "12\n",
            "20\n",
            "40\n",
            "50\n",
            "today\n",
            "dog\n",
            "traffic\n"
          ],
          "name": "stdout"
        }
      ]
    },
    {
      "cell_type": "code",
      "metadata": {
        "id": "TKSdB2donMVs",
        "colab_type": "code",
        "outputId": "62e25ac9-1993-4e6b-bbbf-5cac654875be",
        "colab": {
          "base_uri": "https://localhost:8080/",
          "height": 34
        }
      },
      "source": [
        "for i in range(len(list)):\n",
        "    contents=list[i]\n",
        "  \n",
        "    if type(contents) == int:\n",
        "     list[i] = contents + 5\n",
        "    \n",
        "list\n",
        "      \n",
        "  "
      ],
      "execution_count": 0,
      "outputs": [
        {
          "output_type": "execute_result",
          "data": {
            "text/plain": [
              "[17, 25, 45, 55, 'today', 'dog', 'traffic']"
            ]
          },
          "metadata": {
            "tags": []
          },
          "execution_count": 35
        }
      ]
    },
    {
      "cell_type": "markdown",
      "metadata": {
        "id": "fK5N3aqZqqCa",
        "colab_type": "text"
      },
      "source": [
        "**Print VS Return** <br>\n",
        "\"Print just shows the human user a string representing what is going on inside the computer. The computer cannot make use of that printing. return is how a function gives back a value. This value is often unseen by the human user, but it can be used by the computer in further functions\n",
        "\n",
        "On a more expansive note, print will not in any way affect a function. It is simply there for the human user's benefit. It is very useful for understanding how a program works and can be used in debugging to check various values in a program without interrupting the program.\n",
        "\n",
        "return is the main way that a function returns a value. All functions will return a value, and if there is no return statement (or yield but don't worry about that yet), it will return None. The value that is returned by a function can then be further used as an argument passed to another function, stored as a variable, or just printed for the benefit of the human user.\" - Source: Stack Overflow"
      ]
    },
    {
      "cell_type": "markdown",
      "metadata": {
        "id": "mr8TOoKCn-Ky",
        "colab_type": "text"
      },
      "source": [
        "## 01-05 Loops\n",
        "While Loops (Code that will iterate through while the condition is True) and For Loops (On every loop, Variable becomes the next Variable in the iterable)"
      ]
    },
    {
      "cell_type": "markdown",
      "metadata": {
        "id": "iquid-zLUBmL",
        "colab_type": "text"
      },
      "source": [
        "**More about While Loop**"
      ]
    },
    {
      "cell_type": "code",
      "metadata": {
        "id": "gMjuIMk9Ug7a",
        "colab_type": "code",
        "colab": {}
      },
      "source": [
        "while 2 > 1:\n",
        "  print (\"True\")"
      ],
      "execution_count": 0,
      "outputs": []
    },
    {
      "cell_type": "code",
      "metadata": {
        "id": "Kv8ep8enUtrF",
        "colab_type": "code",
        "outputId": "a7f1ebe9-3a05-47ce-c2e1-a4cbec3a7b71",
        "colab": {
          "base_uri": "https://localhost:8080/",
          "height": 189
        }
      },
      "source": [
        "x = 1\n",
        "while x <= 10:\n",
        "  print(x)\n",
        "  x = x + 1"
      ],
      "execution_count": 0,
      "outputs": [
        {
          "output_type": "stream",
          "text": [
            "1\n",
            "2\n",
            "3\n",
            "4\n",
            "5\n",
            "6\n",
            "7\n",
            "8\n",
            "9\n",
            "10\n"
          ],
          "name": "stdout"
        }
      ]
    },
    {
      "cell_type": "code",
      "metadata": {
        "id": "Pnt5dyIIVqo0",
        "colab_type": "code",
        "outputId": "45382f95-d5ba-40d6-f0a8-9f6f19b3da3d",
        "colab": {
          "base_uri": "https://localhost:8080/",
          "height": 103
        }
      },
      "source": [
        "#Combining Logic with Loop, Extracting only Even numbers\n",
        "y = 1 \n",
        "\n",
        "while y <= 10:\n",
        "  if y % 2 == 0:\n",
        "    print(y)\n",
        "  y = y + 1"
      ],
      "execution_count": 0,
      "outputs": [
        {
          "output_type": "stream",
          "text": [
            "2\n",
            "4\n",
            "6\n",
            "8\n",
            "10\n"
          ],
          "name": "stdout"
        }
      ]
    },
    {
      "cell_type": "markdown",
      "metadata": {
        "id": "dR9uA5lkeYBP",
        "colab_type": "text"
      },
      "source": [
        "**More about For Loop**"
      ]
    },
    {
      "cell_type": "code",
      "metadata": {
        "id": "VWau292jh4ac",
        "colab_type": "code",
        "colab": {}
      },
      "source": [
        "for i in range(1,11):\n",
        "  print i"
      ],
      "execution_count": 0,
      "outputs": []
    },
    {
      "cell_type": "code",
      "metadata": {
        "id": "IH0mboFkhNfg",
        "colab_type": "code",
        "colab": {}
      },
      "source": [
        "#for loop over dictionaries\n",
        "\n",
        "#create a dictionary with key as students\n",
        "students = {\n",
        "    \"MCP\": [\"Ben\", \"Angel\", \"Tanya\", \"Mark\", \"Peter\"]\n",
        "    \"GSD\": [\"Harry\", \"Jack\", \"Rachel\", \"Amber\", \"Emma\"]\n",
        "    \"SMArchS\": [\"Dan\", \"Melissa\", \"Sarah\"]\n",
        "}"
      ],
      "execution_count": 0,
      "outputs": []
    },
    {
      "cell_type": "code",
      "metadata": {
        "id": "4MFomkyTh-fM",
        "colab_type": "code",
        "colab": {}
      },
      "source": [
        "for key in students.key():\n",
        "  for name in students[key]:\n",
        "    if \"e\" in name:\n",
        "      print(name)"
      ],
      "execution_count": 0,
      "outputs": []
    },
    {
      "cell_type": "markdown",
      "metadata": {
        "id": "qQJp9omElEbB",
        "colab_type": "text"
      },
      "source": [
        "**List Comprehensions - Quick, concise ways to create list**"
      ]
    },
    {
      "cell_type": "code",
      "metadata": {
        "id": "EbS_CAXNlME7",
        "colab_type": "code",
        "colab": {}
      },
      "source": [
        "even_numbers = [x for x in range (1,101) if x % == 0]\n",
        "print (even_numbers)"
      ],
      "execution_count": 0,
      "outputs": []
    }
  ]
}