{
  "nbformat": 4,
  "nbformat_minor": 0,
  "metadata": {
    "colab": {
      "name": "01_Introduction.ipynb",
      "provenance": [],
      "collapsed_sections": [],
      "include_colab_link": true
    },
    "kernelspec": {
      "name": "python3",
      "display_name": "Python 3"
    }
  },
  "cells": [
    {
      "cell_type": "markdown",
      "metadata": {
        "id": "view-in-github",
        "colab_type": "text"
      },
      "source": [
        "<a href=\"https://colab.research.google.com/github/klo-e/11.S944/blob/master/01_Introduction.ipynb\" target=\"_parent\"><img src=\"https://colab.research.google.com/assets/colab-badge.svg\" alt=\"Open In Colab\"/></a>"
      ]
    },
    {
      "cell_type": "markdown",
      "metadata": {
        "id": "13Mgi3cC-19K",
        "colab_type": "text"
      },
      "source": [
        "### 01 - 01 Introduction to Python"
      ]
    },
    {
      "cell_type": "markdown",
      "metadata": {
        "id": "kXKm-q57BlnQ",
        "colab_type": "text"
      },
      "source": [
        "Python is a great high-level, general purpose programming language created by Guido van Rossum in 1991. Common uses include building desktop apps, games, backend web development and for this class, data analysis. Companies like Instagram, Amazon, Spotify and Facebook uses Python as well.\n",
        "\n",
        "The current version we are using is Python 3.7.4. Some online tutorials may refer to Python 2, which defers slightly in syntax from Python 3.\n",
        "\n",
        "You can find out more from the [Official Python Documentation.](https://docs.python.org/3/) \n"
      ]
    },
    {
      "cell_type": "markdown",
      "metadata": {
        "id": "yxMSJDAmwHRJ",
        "colab_type": "text"
      },
      "source": [
        "### 01 - 02 Basic **Calculations**"
      ]
    },
    {
      "cell_type": "markdown",
      "metadata": {
        "id": "m1XzDztxd0s6",
        "colab_type": "text"
      },
      "source": [
        "The Python interpreter allows you to use Python as a Calculator:\n",
        "\n",
        "\n",
        "*   Addition (+)\n",
        "*   Subtraction (-)\n",
        "*   Multiplication (*)\n",
        "*   Division (/)\n",
        "*   Modulo (%, to calculate remainder of the division)\n",
        "*   Power (**)\n",
        "\n",
        "\n",
        "\n",
        "\n",
        "\n"
      ]
    },
    {
      "cell_type": "code",
      "metadata": {
        "id": "KtNOx-2Z0FdT",
        "colab_type": "code",
        "colab": {
          "base_uri": "https://localhost:8080/",
          "height": 34
        },
        "outputId": "6fed2fd8-3df9-44d8-8be0-ea23f8aa3b4b"
      },
      "source": [
        "print(6+6)"
      ],
      "execution_count": 1,
      "outputs": [
        {
          "output_type": "stream",
          "text": [
            "12\n"
          ],
          "name": "stdout"
        }
      ]
    },
    {
      "cell_type": "code",
      "metadata": {
        "id": "LJi9sZe-0PaV",
        "colab_type": "code",
        "colab": {
          "base_uri": "https://localhost:8080/",
          "height": 34
        },
        "outputId": "690f893d-296d-47c6-a558-47eaf0dce079"
      },
      "source": [
        "print (6-6)"
      ],
      "execution_count": 2,
      "outputs": [
        {
          "output_type": "stream",
          "text": [
            "0\n"
          ],
          "name": "stdout"
        }
      ]
    },
    {
      "cell_type": "code",
      "metadata": {
        "id": "PUs9BMv70VYU",
        "colab_type": "code",
        "colab": {
          "base_uri": "https://localhost:8080/",
          "height": 34
        },
        "outputId": "02e4bcb4-74ee-4b4f-f120-1bedfbacfc57"
      },
      "source": [
        "print (4*5)"
      ],
      "execution_count": 3,
      "outputs": [
        {
          "output_type": "stream",
          "text": [
            "20\n"
          ],
          "name": "stdout"
        }
      ]
    },
    {
      "cell_type": "code",
      "metadata": {
        "id": "ylJETBJa0ZDp",
        "colab_type": "code",
        "colab": {
          "base_uri": "https://localhost:8080/",
          "height": 34
        },
        "outputId": "5425d70b-6b67-48eb-dae8-a71f39ac0a6c"
      },
      "source": [
        "print (10/2)"
      ],
      "execution_count": 6,
      "outputs": [
        {
          "output_type": "stream",
          "text": [
            "5.0\n"
          ],
          "name": "stdout"
        }
      ]
    },
    {
      "cell_type": "code",
      "metadata": {
        "id": "FtlDe2qC0iOV",
        "colab_type": "code",
        "colab": {
          "base_uri": "https://localhost:8080/",
          "height": 34
        },
        "outputId": "ed5411b4-f15f-4824-f11f-5da03f3302e9"
      },
      "source": [
        "print (18%7)"
      ],
      "execution_count": 7,
      "outputs": [
        {
          "output_type": "stream",
          "text": [
            "4\n"
          ],
          "name": "stdout"
        }
      ]
    },
    {
      "cell_type": "code",
      "metadata": {
        "id": "Bfbr2bqI0m8w",
        "colab_type": "code",
        "colab": {
          "base_uri": "https://localhost:8080/",
          "height": 34
        },
        "outputId": "cffcb30d-899f-4d27-e9dc-9cca52f57875"
      },
      "source": [
        "print(4**2)"
      ],
      "execution_count": 8,
      "outputs": [
        {
          "output_type": "stream",
          "text": [
            "16\n"
          ],
          "name": "stdout"
        }
      ]
    },
    {
      "cell_type": "markdown",
      "metadata": {
        "id": "GQyfEP4m0-Ay",
        "colab_type": "text"
      },
      "source": [
        "# **01 - 03 Data Types**\n",
        "\n",
        "*   String (Str, Python's version of text. Both single and double quotation works)\n",
        "*   Integer (Int)\n",
        "*   Float \n",
        "*   Boolean (Bool, whether something is True or False)\n",
        "\n",
        "**It is important to understand the different data types as they exhibit different behaviour given similiar commands.**\n"
      ]
    },
    {
      "cell_type": "code",
      "metadata": {
        "id": "xbxPoz0-SM69",
        "colab_type": "code",
        "colab": {
          "base_uri": "https://localhost:8080/",
          "height": 34
        },
        "outputId": "20ed673e-ffac-43a0-9f99-fe9113f3c283"
      },
      "source": [
        "print(2+5)"
      ],
      "execution_count": 16,
      "outputs": [
        {
          "output_type": "stream",
          "text": [
            "7\n"
          ],
          "name": "stdout"
        }
      ]
    },
    {
      "cell_type": "code",
      "metadata": {
        "id": "L3jyqD1n1Woy",
        "colab_type": "code",
        "colab": {
          "base_uri": "https://localhost:8080/",
          "height": 34
        },
        "outputId": "0160a98a-7492-4845-db6a-6c6b34a1454c"
      },
      "source": [
        "#example of string\n",
        "'ab' + 'cd'"
      ],
      "execution_count": 10,
      "outputs": [
        {
          "output_type": "execute_result",
          "data": {
            "text/plain": [
              "'abcd'"
            ]
          },
          "metadata": {
            "tags": []
          },
          "execution_count": 10
        }
      ]
    },
    {
      "cell_type": "code",
      "metadata": {
        "id": "Ho_Ql4eubjwv",
        "colab_type": "code",
        "colab": {}
      },
      "source": [
        ""
      ],
      "execution_count": 0,
      "outputs": []
    },
    {
      "cell_type": "markdown",
      "metadata": {
        "id": "U3xcnFjvTm6n",
        "colab_type": "text"
      },
      "source": [
        "***Functions***\n",
        "Function: Block of reusable codes that only run when called to carry out specific task.\n",
        "You can run data, also known as parameters in the function.\n",
        "Saves you from repeating your code."
      ]
    },
    {
      "cell_type": "code",
      "metadata": {
        "id": "ShlIt_l7Qyve",
        "colab_type": "code",
        "colab": {}
      },
      "source": [
        "def sayhello(name):\n",
        "  print(\"hello\" + \" \" + name)"
      ],
      "execution_count": 0,
      "outputs": []
    },
    {
      "cell_type": "code",
      "metadata": {
        "id": "bnwcOAvKRFYD",
        "colab_type": "code",
        "colab": {
          "base_uri": "https://localhost:8080/",
          "height": 34
        },
        "outputId": "62ba707d-c596-4be8-b800-037328c3914a"
      },
      "source": [
        "sayhello(\"kloe\")"
      ],
      "execution_count": 9,
      "outputs": [
        {
          "output_type": "stream",
          "text": [
            "hello kloe\n"
          ],
          "name": "stdout"
        }
      ]
    },
    {
      "cell_type": "code",
      "metadata": {
        "id": "Kku3eJc6RjBT",
        "colab_type": "code",
        "colab": {
          "base_uri": "https://localhost:8080/",
          "height": 68
        },
        "outputId": "daf3c2ad-ec83-4444-f265-eb03b40ec012"
      },
      "source": [
        "def mydog(breed):\n",
        "  print(\"I have a \"+  breed)\n",
        "  \n",
        "mydog(\"pug\")\n",
        "mydog(\"frenchie\")\n",
        "mydog(\"golden\")\n",
        "\n"
      ],
      "execution_count": 21,
      "outputs": [
        {
          "output_type": "stream",
          "text": [
            "I have a pug\n",
            "I have a frenchie\n",
            "I have a golden\n"
          ],
          "name": "stdout"
        }
      ]
    },
    {
      "cell_type": "code",
      "metadata": {
        "id": "5P637ALSV4TX",
        "colab_type": "code",
        "colab": {
          "base_uri": "https://localhost:8080/",
          "height": 119
        },
        "outputId": "b769773e-4458-4770-95b3-66653a49b6a2"
      },
      "source": [
        "def myfunction(food):\n",
        "  for x in food:\n",
        "    print(x)\n",
        "\n",
        "\n",
        "fruits = [\"apple\", \"orange\", \"banana\"]\n",
        "cuisine = [\"chinese\", \"italian\", \"japanese\"]\n",
        "\n",
        "myfunction(fruits)\n",
        "myfunction(cuisine)"
      ],
      "execution_count": 24,
      "outputs": [
        {
          "output_type": "stream",
          "text": [
            "apple\n",
            "orange\n",
            "banana\n",
            "chinese\n",
            "italian\n",
            "japanese\n"
          ],
          "name": "stdout"
        }
      ]
    },
    {
      "cell_type": "code",
      "metadata": {
        "id": "3sBrSMGWZWr7",
        "colab_type": "code",
        "colab": {
          "base_uri": "https://localhost:8080/",
          "height": 34
        },
        "outputId": "e8b18137-5660-4df6-d19d-673c32a8547a"
      },
      "source": [
        "def my_function(monday, tuesday, wednesday):\n",
        "  print(\"I had\" + wednesday)`\n",
        "\n",
        "my_function(monday = \"chinese\", tuesday = \"italian\", wednesday = \"japanese\")"
      ],
      "execution_count": 28,
      "outputs": [
        {
          "output_type": "stream",
          "text": [
            "I had japanese\n"
          ],
          "name": "stdout"
        }
      ]
    },
    {
      "cell_type": "code",
      "metadata": {
        "id": "xEJeW2JnhyZs",
        "colab_type": "code",
        "colab": {
          "base_uri": "https://localhost:8080/",
          "height": 34
        },
        "outputId": "5f357107-13c8-4f95-c777-764a98d71a4f"
      },
      "source": [
        "def sum_two_numbers(a, b):\n",
        "    return a + b\n",
        "  \n",
        "sum_two_numbers(5,10)"
      ],
      "execution_count": 29,
      "outputs": [
        {
          "output_type": "execute_result",
          "data": {
            "text/plain": [
              "15"
            ]
          },
          "metadata": {
            "tags": []
          },
          "execution_count": 29
        }
      ]
    },
    {
      "cell_type": "code",
      "metadata": {
        "id": "N_Q0rmsonCdU",
        "colab_type": "code",
        "colab": {}
      },
      "source": [
        "list = [12, 20, 40, 50, \"today\", \"dog\", \"traffic\"]"
      ],
      "execution_count": 0,
      "outputs": []
    },
    {
      "cell_type": "code",
      "metadata": {
        "id": "zGpDPVCDnI9y",
        "colab_type": "code",
        "colab": {
          "base_uri": "https://localhost:8080/",
          "height": 136
        },
        "outputId": "863fd82d-9fe3-4457-e14b-b9cdcde9c8fc"
      },
      "source": [
        "for i in list:\n",
        "  print(i)"
      ],
      "execution_count": 31,
      "outputs": [
        {
          "output_type": "stream",
          "text": [
            "12\n",
            "20\n",
            "40\n",
            "50\n",
            "today\n",
            "dog\n",
            "traffic\n"
          ],
          "name": "stdout"
        }
      ]
    },
    {
      "cell_type": "code",
      "metadata": {
        "id": "TKSdB2donMVs",
        "colab_type": "code",
        "colab": {
          "base_uri": "https://localhost:8080/",
          "height": 34
        },
        "outputId": "62e25ac9-1993-4e6b-bbbf-5cac654875be"
      },
      "source": [
        "for i in range(len(list)):\n",
        "    contents=list[i]\n",
        "  \n",
        "    if type(contents) == int:\n",
        "     list[i] = contents + 5\n",
        "    \n",
        "list\n",
        "      \n",
        "  "
      ],
      "execution_count": 35,
      "outputs": [
        {
          "output_type": "execute_result",
          "data": {
            "text/plain": [
              "[17, 25, 45, 55, 'today', 'dog', 'traffic']"
            ]
          },
          "metadata": {
            "tags": []
          },
          "execution_count": 35
        }
      ]
    },
    {
      "cell_type": "code",
      "metadata": {
        "id": "_JVlOxUbT6Un",
        "colab_type": "code",
        "colab": {}
      },
      "source": [
        ""
      ],
      "execution_count": 0,
      "outputs": []
    },
    {
      "cell_type": "code",
      "metadata": {
        "id": "gEQB2tXvnPj3",
        "colab_type": "code",
        "colab": {}
      },
      "source": [
        ""
      ],
      "execution_count": 0,
      "outputs": []
    }
  ]
}